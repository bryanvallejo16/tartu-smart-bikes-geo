{
 "cells": [
  {
   "cell_type": "code",
   "execution_count": 138,
   "id": "b3797c6d",
   "metadata": {},
   "outputs": [],
   "source": [
    "import geopandas as gpd\n",
    "import pandas as pd"
   ]
  },
  {
   "cell_type": "code",
   "execution_count": 139,
   "id": "d38705da",
   "metadata": {},
   "outputs": [],
   "source": [
    "fp = r'locations_20190718.csv'\n",
    "data = pd.read_csv(fp)"
   ]
  },
  {
   "cell_type": "code",
   "execution_count": 140,
   "id": "54463339",
   "metadata": {},
   "outputs": [
    {
     "data": {
      "text/html": [
       "<div>\n",
       "<style scoped>\n",
       "    .dataframe tbody tr th:only-of-type {\n",
       "        vertical-align: middle;\n",
       "    }\n",
       "\n",
       "    .dataframe tbody tr th {\n",
       "        vertical-align: top;\n",
       "    }\n",
       "\n",
       "    .dataframe thead th {\n",
       "        text-align: right;\n",
       "    }\n",
       "</style>\n",
       "<table border=\"1\" class=\"dataframe\">\n",
       "  <thead>\n",
       "    <tr style=\"text-align: right;\">\n",
       "      <th></th>\n",
       "      <th>route_code</th>\n",
       "      <th>cyclenumber</th>\n",
       "      <th>latitude</th>\n",
       "      <th>longitude</th>\n",
       "      <th>coord_date</th>\n",
       "      <th>coord_time</th>\n",
       "    </tr>\n",
       "  </thead>\n",
       "  <tbody>\n",
       "    <tr>\n",
       "      <th>0</th>\n",
       "      <td>1563397276221</td>\n",
       "      <td>2519</td>\n",
       "      <td>58.378092</td>\n",
       "      <td>26.726292</td>\n",
       "      <td>2019-07-18</td>\n",
       "      <td>00:01:53+00</td>\n",
       "    </tr>\n",
       "    <tr>\n",
       "      <th>1</th>\n",
       "      <td>1563397276221</td>\n",
       "      <td>2519</td>\n",
       "      <td>58.378092</td>\n",
       "      <td>26.726292</td>\n",
       "      <td>2019-07-18</td>\n",
       "      <td>00:01:58+00</td>\n",
       "    </tr>\n",
       "    <tr>\n",
       "      <th>2</th>\n",
       "      <td>1563397276221</td>\n",
       "      <td>2519</td>\n",
       "      <td>58.378092</td>\n",
       "      <td>26.726292</td>\n",
       "      <td>2019-07-18</td>\n",
       "      <td>00:02:03+00</td>\n",
       "    </tr>\n",
       "    <tr>\n",
       "      <th>3</th>\n",
       "      <td>1563397276221</td>\n",
       "      <td>2519</td>\n",
       "      <td>58.378092</td>\n",
       "      <td>26.726292</td>\n",
       "      <td>2019-07-18</td>\n",
       "      <td>00:02:08+00</td>\n",
       "    </tr>\n",
       "    <tr>\n",
       "      <th>4</th>\n",
       "      <td>1563397276221</td>\n",
       "      <td>2519</td>\n",
       "      <td>58.378020</td>\n",
       "      <td>26.726333</td>\n",
       "      <td>2019-07-18</td>\n",
       "      <td>00:02:53+00</td>\n",
       "    </tr>\n",
       "  </tbody>\n",
       "</table>\n",
       "</div>"
      ],
      "text/plain": [
       "      route_code  cyclenumber   latitude  longitude  coord_date   coord_time\n",
       "0  1563397276221         2519  58.378092  26.726292  2019-07-18  00:01:53+00\n",
       "1  1563397276221         2519  58.378092  26.726292  2019-07-18  00:01:58+00\n",
       "2  1563397276221         2519  58.378092  26.726292  2019-07-18  00:02:03+00\n",
       "3  1563397276221         2519  58.378092  26.726292  2019-07-18  00:02:08+00\n",
       "4  1563397276221         2519  58.378020  26.726333  2019-07-18  00:02:53+00"
      ]
     },
     "execution_count": 140,
     "metadata": {},
     "output_type": "execute_result"
    }
   ],
   "source": [
    "data.head()"
   ]
  },
  {
   "cell_type": "code",
   "execution_count": 141,
   "id": "753afd00",
   "metadata": {},
   "outputs": [],
   "source": [
    "data['route_code'] = [f'B-{code}' for code in data['route_code']]\n",
    "data['timestamp'] = data['coord_date'] + ' ' + data['coord_time']"
   ]
  },
  {
   "cell_type": "code",
   "execution_count": 142,
   "id": "4160ba24",
   "metadata": {},
   "outputs": [
    {
     "data": {
      "text/html": [
       "<div>\n",
       "<style scoped>\n",
       "    .dataframe tbody tr th:only-of-type {\n",
       "        vertical-align: middle;\n",
       "    }\n",
       "\n",
       "    .dataframe tbody tr th {\n",
       "        vertical-align: top;\n",
       "    }\n",
       "\n",
       "    .dataframe thead th {\n",
       "        text-align: right;\n",
       "    }\n",
       "</style>\n",
       "<table border=\"1\" class=\"dataframe\">\n",
       "  <thead>\n",
       "    <tr style=\"text-align: right;\">\n",
       "      <th></th>\n",
       "      <th>route_code</th>\n",
       "      <th>cyclenumber</th>\n",
       "      <th>latitude</th>\n",
       "      <th>longitude</th>\n",
       "      <th>coord_date</th>\n",
       "      <th>coord_time</th>\n",
       "      <th>timestamp</th>\n",
       "    </tr>\n",
       "  </thead>\n",
       "  <tbody>\n",
       "    <tr>\n",
       "      <th>0</th>\n",
       "      <td>B-1563397276221</td>\n",
       "      <td>2519</td>\n",
       "      <td>58.378092</td>\n",
       "      <td>26.726292</td>\n",
       "      <td>2019-07-18</td>\n",
       "      <td>00:01:53+00</td>\n",
       "      <td>2019-07-18 00:01:53+00</td>\n",
       "    </tr>\n",
       "    <tr>\n",
       "      <th>1</th>\n",
       "      <td>B-1563397276221</td>\n",
       "      <td>2519</td>\n",
       "      <td>58.378092</td>\n",
       "      <td>26.726292</td>\n",
       "      <td>2019-07-18</td>\n",
       "      <td>00:01:58+00</td>\n",
       "      <td>2019-07-18 00:01:58+00</td>\n",
       "    </tr>\n",
       "    <tr>\n",
       "      <th>2</th>\n",
       "      <td>B-1563397276221</td>\n",
       "      <td>2519</td>\n",
       "      <td>58.378092</td>\n",
       "      <td>26.726292</td>\n",
       "      <td>2019-07-18</td>\n",
       "      <td>00:02:03+00</td>\n",
       "      <td>2019-07-18 00:02:03+00</td>\n",
       "    </tr>\n",
       "    <tr>\n",
       "      <th>3</th>\n",
       "      <td>B-1563397276221</td>\n",
       "      <td>2519</td>\n",
       "      <td>58.378092</td>\n",
       "      <td>26.726292</td>\n",
       "      <td>2019-07-18</td>\n",
       "      <td>00:02:08+00</td>\n",
       "      <td>2019-07-18 00:02:08+00</td>\n",
       "    </tr>\n",
       "    <tr>\n",
       "      <th>4</th>\n",
       "      <td>B-1563397276221</td>\n",
       "      <td>2519</td>\n",
       "      <td>58.378020</td>\n",
       "      <td>26.726333</td>\n",
       "      <td>2019-07-18</td>\n",
       "      <td>00:02:53+00</td>\n",
       "      <td>2019-07-18 00:02:53+00</td>\n",
       "    </tr>\n",
       "  </tbody>\n",
       "</table>\n",
       "</div>"
      ],
      "text/plain": [
       "        route_code  cyclenumber   latitude  longitude  coord_date  \\\n",
       "0  B-1563397276221         2519  58.378092  26.726292  2019-07-18   \n",
       "1  B-1563397276221         2519  58.378092  26.726292  2019-07-18   \n",
       "2  B-1563397276221         2519  58.378092  26.726292  2019-07-18   \n",
       "3  B-1563397276221         2519  58.378092  26.726292  2019-07-18   \n",
       "4  B-1563397276221         2519  58.378020  26.726333  2019-07-18   \n",
       "\n",
       "    coord_time               timestamp  \n",
       "0  00:01:53+00  2019-07-18 00:01:53+00  \n",
       "1  00:01:58+00  2019-07-18 00:01:58+00  \n",
       "2  00:02:03+00  2019-07-18 00:02:03+00  \n",
       "3  00:02:08+00  2019-07-18 00:02:08+00  \n",
       "4  00:02:53+00  2019-07-18 00:02:53+00  "
      ]
     },
     "execution_count": 142,
     "metadata": {},
     "output_type": "execute_result"
    }
   ],
   "source": [
    "# del data['route_code']\n",
    "data.head()"
   ]
  },
  {
   "cell_type": "code",
   "execution_count": 143,
   "id": "1049376c",
   "metadata": {},
   "outputs": [
    {
     "data": {
      "text/plain": [
       "route_code      object\n",
       "cyclenumber      int64\n",
       "latitude       float64\n",
       "longitude      float64\n",
       "coord_date      object\n",
       "coord_time      object\n",
       "timestamp       object\n",
       "dtype: object"
      ]
     },
     "execution_count": 143,
     "metadata": {},
     "output_type": "execute_result"
    }
   ],
   "source": [
    "data.dtypes"
   ]
  },
  {
   "cell_type": "code",
   "execution_count": 144,
   "id": "64681fdf",
   "metadata": {},
   "outputs": [],
   "source": [
    "# data['route_code'].nunique()"
   ]
  },
  {
   "cell_type": "code",
   "execution_count": 145,
   "id": "fe67a307",
   "metadata": {},
   "outputs": [
    {
     "data": {
      "text/plain": [
       "437"
      ]
     },
     "execution_count": 145,
     "metadata": {},
     "output_type": "execute_result"
    }
   ],
   "source": [
    "data['cyclenumber'].nunique()"
   ]
  },
  {
   "cell_type": "code",
   "execution_count": 146,
   "id": "6f0e59d6",
   "metadata": {},
   "outputs": [],
   "source": [
    "data = data.loc[data['coord_date']!= '2019-07-22']"
   ]
  },
  {
   "cell_type": "code",
   "execution_count": 147,
   "id": "751e01a5",
   "metadata": {},
   "outputs": [],
   "source": [
    "data.to_csv(r'product/1807_daily_bikemoves.csv')"
   ]
  },
  {
   "cell_type": "code",
   "execution_count": 148,
   "id": "515d5a21",
   "metadata": {},
   "outputs": [],
   "source": [
    "import osmnx  as ox\n",
    "import networkx as nx\n",
    "import geopandas as gpd\n",
    "from shapely.geometry import Point"
   ]
  },
  {
   "cell_type": "code",
   "execution_count": 149,
   "id": "762537e7",
   "metadata": {},
   "outputs": [],
   "source": [
    "geodata = gpd.GeoDataFrame(data)\n",
    "\n",
    "geodata['geometry'] = [Point(lon, lat) for lon, lat in zip(geodata['longitude'], geodata['latitude'])]"
   ]
  },
  {
   "cell_type": "code",
   "execution_count": 151,
   "id": "e1cbdfe7",
   "metadata": {},
   "outputs": [],
   "source": [
    "convex = geodata.unary_union.convex_hull"
   ]
  },
  {
   "cell_type": "code",
   "execution_count": 152,
   "id": "682f88ac",
   "metadata": {},
   "outputs": [],
   "source": [
    "graph_extent = convex.buffer(0.02)"
   ]
  },
  {
   "cell_type": "code",
   "execution_count": 153,
   "id": "183e352e",
   "metadata": {},
   "outputs": [],
   "source": [
    "graph = ox.graph_from_polygon(graph_extent, network_type= 'bike')"
   ]
  },
  {
   "cell_type": "code",
   "execution_count": 154,
   "id": "3f0b0ac5",
   "metadata": {},
   "outputs": [],
   "source": [
    "# Get the GeoDataFrame\n",
    "edges = ox.graph_to_gdfs(graph, nodes=False)"
   ]
  },
  {
   "cell_type": "code",
   "execution_count": 155,
   "id": "b594aaa4",
   "metadata": {},
   "outputs": [
    {
     "data": {
      "text/plain": [
       "<AxesSubplot:>"
      ]
     },
     "execution_count": 155,
     "metadata": {},
     "output_type": "execute_result"
    },
    {
     "data": {
      "image/png": "[encoded data removed]",
      "text/plain": [
       "<Figure size 432x288 with 1 Axes>"
      ]
     },
     "metadata": {
      "needs_background": "light"
     },
     "output_type": "display_data"
    }
   ],
   "source": [
    "edges.plot()"
   ]
  },
  {
   "cell_type": "code",
   "execution_count": 156,
   "id": "4aadc929",
   "metadata": {},
   "outputs": [
    {
     "data": {
      "text/html": [
       "<div>\n",
       "<style scoped>\n",
       "    .dataframe tbody tr th:only-of-type {\n",
       "        vertical-align: middle;\n",
       "    }\n",
       "\n",
       "    .dataframe tbody tr th {\n",
       "        vertical-align: top;\n",
       "    }\n",
       "\n",
       "    .dataframe thead th {\n",
       "        text-align: right;\n",
       "    }\n",
       "</style>\n",
       "<table border=\"1\" class=\"dataframe\">\n",
       "  <thead>\n",
       "    <tr style=\"text-align: right;\">\n",
       "      <th></th>\n",
       "      <th>geometry</th>\n",
       "    </tr>\n",
       "  </thead>\n",
       "  <tbody>\n",
       "    <tr>\n",
       "      <th>0</th>\n",
       "      <td>LINESTRING (26.73016 58.37857, 26.72998 58.378...</td>\n",
       "    </tr>\n",
       "    <tr>\n",
       "      <th>1</th>\n",
       "      <td>LINESTRING (26.73016 58.37857, 26.73027 58.378...</td>\n",
       "    </tr>\n",
       "    <tr>\n",
       "      <th>2</th>\n",
       "      <td>LINESTRING (26.73056 58.37979, 26.73061 58.379...</td>\n",
       "    </tr>\n",
       "    <tr>\n",
       "      <th>3</th>\n",
       "      <td>LINESTRING (26.73056 58.37979, 26.73068 58.380...</td>\n",
       "    </tr>\n",
       "    <tr>\n",
       "      <th>4</th>\n",
       "      <td>LINESTRING (26.73056 58.37979, 26.73051 58.379...</td>\n",
       "    </tr>\n",
       "  </tbody>\n",
       "</table>\n",
       "</div>"
      ],
      "text/plain": [
       "                                            geometry\n",
       "0  LINESTRING (26.73016 58.37857, 26.72998 58.378...\n",
       "1  LINESTRING (26.73016 58.37857, 26.73027 58.378...\n",
       "2  LINESTRING (26.73056 58.37979, 26.73061 58.379...\n",
       "3  LINESTRING (26.73056 58.37979, 26.73068 58.380...\n",
       "4  LINESTRING (26.73056 58.37979, 26.73051 58.379..."
      ]
     },
     "execution_count": 156,
     "metadata": {},
     "output_type": "execute_result"
    }
   ],
   "source": [
    "edges = edges.reset_index(drop=True)\n",
    "edges = edges[['geometry']]\n",
    "\n",
    "edges.head()"
   ]
  },
  {
   "cell_type": "code",
   "execution_count": 157,
   "id": "063f8591",
   "metadata": {},
   "outputs": [
    {
     "data": {
      "text/plain": [
       "geopandas.geodataframe.GeoDataFrame"
      ]
     },
     "execution_count": 157,
     "metadata": {},
     "output_type": "execute_result"
    }
   ],
   "source": [
    "type(edges)"
   ]
  },
  {
   "cell_type": "code",
   "execution_count": 158,
   "id": "2f5faa4a",
   "metadata": {},
   "outputs": [],
   "source": [
    "edges.to_file(r'product/bike_network.geojson', driver='GeoJSON')"
   ]
  }
 ],
 "metadata": {
  "kernelspec": {
   "display_name": "Python 3 (ipykernel)",
   "language": "python",
   "name": "python3"
  },
  "language_info": {
   "codemirror_mode": {
    "name": "ipython",
    "version": 3
   },
   "file_extension": ".py",
   "mimetype": "text/x-python",
   "name": "python",
   "nbconvert_exporter": "python",
   "pygments_lexer": "ipython3",
   "version": "3.8.12"
  }
 },
 "nbformat": 4,
 "nbformat_minor": 5
}
